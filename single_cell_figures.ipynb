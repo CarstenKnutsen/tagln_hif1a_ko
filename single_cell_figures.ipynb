{
 "cells": [
  {
   "cell_type": "code",
   "execution_count": null,
   "id": "26235c10",
   "metadata": {},
   "outputs": [],
   "source": [
    "import os\n",
    "import scanpy as sc\n",
    "import pandas as pd \n",
    "import numpy as np\n",
    "import seaborn as sns\n",
    "import matplotlib.pyplot as plt\n",
    "import matplotlib.font_manager\n",
    "output = '/home/carsten/alvira_bioinformatics/hif1a_tagln/data/output'\n",
    "sc.settings.figdir = output\n",
    "sc.set_figure_params(fontsize=12, dpi = 300)\n",
    "os.makedirs(output, exist_ok = True)\n",
    "plt.rcParams['font.family'] = 'Helvetica'\n",
    "plt.rcParams['font.sans-serif']=['Helvetica']\n",
    "plt.rcParams['pdf.fonttype'] = 'truetype'\n",
    "plt.rcParams['font.size'] = 12\n"
   ]
  },
  {
   "cell_type": "code",
   "execution_count": null,
   "id": "55637297",
   "metadata": {},
   "outputs": [],
   "source": [
    "for x in [sc, pd, np, sns]:\n",
    "    print(x.__name__)\n",
    "    print(x.__version__)"
   ]
  },
  {
   "cell_type": "markdown",
   "id": "cc69dc74",
   "metadata": {},
   "source": [
    "# Data from GSE159804 & GSE172251\n",
    "## Data came as raw counts, with cells/genes already filtered in original paper\n",
    "### Just need to scale the counts and adjust metadata"
   ]
  },
  {
   "cell_type": "code",
   "execution_count": null,
   "id": "6506d4d8",
   "metadata": {},
   "outputs": [],
   "source": [
    "mes_adata = sc.read_csv('/home/carsten/alvira_bioinformatics/hif1a_tagln/data/GSE172251_table_counts_lungmese.tsv.gz',\n",
    "                  delimiter='\\t').T\n",
    "metadata = pd.read_csv('/home/carsten/alvira_bioinformatics/hif1a_tagln/data/GSE172251_table_cellmetadata_lungmese.tsv.gz',\n",
    "                      delimiter='\\t',\n",
    "                      index_col=0)\n",
    "mes_adata.obs = metadata\n",
    "mes_adata.obs['Cell Subtype'].replace({'Early adventitial fibroblast': 'Adventitial fibroblast',\n",
    "                                  'Early alveolar fibroblast': 'Alveolar fibroblast',\n",
    "                                  'Early airway smooth muscle': 'Airway smooth muscle'}, inplace=True)#combine cell types over time\n",
    "abv_dict = {'Airway smooth muscle':'ASM', \n",
    "            'Myofibroblast':'MyoFib', \n",
    "            'Alveolar fibroblast':'AlvFib',\n",
    "            'Proliferating myofibroblast': 'Prolif MyoFib',\n",
    "            'Vascular smooth muscle':'VSM',\n",
    "            'Pericyte':'Peri', \n",
    "            'Proliferating fibroblast':'Prolif Fib', \n",
    "            'Adventitial fibroblast': 'AdvFib',\n",
    "            'Proliferating pericyte': 'Prolif Peri',\n",
    "            'Myofibroblast and smooth muscle precursor': 'PreASM/MyoF', \n",
    "            'Striated muscle': 'StriaMusc',\n",
    "            'Fibroblast precursor':'PreFib', \n",
    "            'Male hyperoxic fibroblast':'MHF'\n",
    "           }\n",
    "mes_adata.obs['Cell Subtype'].replace(abv_dict, inplace = True)\n",
    "mes_adata = mes_adata[mes_adata.obs['Cell Subtype'] != 'StriaMusc']\n",
    "sc.pp.normalize_total(mes_adata, target_sum=1e6)\n",
    "sc.pp.log1p(mes_adata, base=2)"
   ]
  },
  {
   "cell_type": "code",
   "execution_count": null,
   "id": "c4f74345",
   "metadata": {},
   "outputs": [],
   "source": [
    "end_adata = sc.read_csv('/home/carsten/alvira_bioinformatics/hif1a_tagln/data/GSE159804_table_counts_lungendo.tsv.gz',\n",
    "                  delimiter='\\t').T\n",
    "metadata = pd.read_csv('/home/carsten/alvira_bioinformatics/hif1a_tagln/data/GSE159804_table_cellmetadata_lungendo.tsv.gz',\n",
    "                      delimiter='\\t',\n",
    "                      index_col=0)\n",
    "end_adata.obs = metadata\n",
    "end_adata.obs['Cell Subtype'].replace({'Early Car4- capillaries': 'Car4- capillarites',\n",
    "                                  'Late Car4- capillaries': 'Car4- capillarites'}, inplace=True) #combine cell types over time\n",
    "endo_abv_dict = {'Arterial EC I':'ArtI',\n",
    " 'Arterial EC II':'ArtII',\n",
    " 'Car4+ capillaries':'Aero',\n",
    " 'Car4- capillarites':'gCap',\n",
    " 'Lymphatic EC':'Lymph',\n",
    " 'Nonproliferative embryonic EC':\"Embryonic\",\n",
    " 'Proliferative EC':'Prolif EC',\n",
    " 'Proliferative venous EC':'Prolif Vein',\n",
    " 'Venous EC':'Vein'}\n",
    "end_adata.obs['Cell Subtype'].replace(endo_abv_dict, inplace = True)\n",
    "sc.pp.normalize_total(end_adata, target_sum=1e6)\n",
    "sc.pp.log1p(end_adata, base=2)\n",
    "sorted(end_adata.obs['Cell Subtype'].unique())"
   ]
  },
  {
   "cell_type": "markdown",
   "id": "7de52756",
   "metadata": {},
   "source": [
    "## Figure 1 \n",
    "### dotplot of Hif1a/Tagln expressing mesenchymal "
   ]
  },
  {
   "cell_type": "code",
   "execution_count": null,
   "id": "05475daf",
   "metadata": {},
   "outputs": [],
   "source": [
    "norm_mes_adata = mes_adata[mes_adata.obs['Treatment'] == 'normal', :]\n",
    "sc.pl.DotPlot(norm_mes_adata,\n",
    "              ['Tagln','Hif1a'],\n",
    "              standard_scale='var',\n",
    "              groupby = 'Cell Subtype').legend(width = 2.1,size_title='% cells expressing',colorbar_title= 'Normalized Expression').style(cmap='viridis', y_padding=0.5, largest_dot=200).savefig(os.path.join(output,f'dotplot_fig1_hif1a_tagln.png'), dpi = 300)\n"
   ]
  },
  {
   "cell_type": "code",
   "execution_count": null,
   "id": "f850508d",
   "metadata": {},
   "outputs": [],
   "source": [
    "abv_dict = {'Airway smooth muscle':'ASM', \n",
    "            'Myofibroblast':'MyoFib', \n",
    "            'Alveolar fibroblast':'AlvFib',\n",
    "            'Proliferating myofibroblast': 'Prolif MyoFib',\n",
    "            'Vascular smooth muscle':'VSM',\n",
    "            'Pericyte':'Peri', \n",
    "            'Proliferating fibroblast':'Prolif Fib', \n",
    "            'Adventitial fibroblast': 'AdvFib',\n",
    "            'Proliferating pericyte': 'Prolif Peri',\n",
    "            'Myofibroblast and smooth muscle precursor': 'PreASM/MyoF', \n",
    "            'Striated muscle': 'StriaMusc',\n",
    "            'Fibroblast precursor':'PreFib', \n",
    "            'Male hyperoxic fibroblast':'MHF'\n",
    "           }\n",
    "for x in sorted(abv_dict.keys()):\n",
    "    print(f'{x} ({abv_dict[x]}),')\n",
    "for x in sorted(endo_abv_dict.keys()):\n",
    "    print(f'{x} ({endo_abv_dict[x]}),')"
   ]
  },
  {
   "cell_type": "markdown",
   "id": "b1866c03",
   "metadata": {},
   "source": [
    "# Figure 2\n",
    "## Coexpression of Hif1a and Tagln, Pdgfra "
   ]
  },
  {
   "cell_type": "code",
   "execution_count": null,
   "id": "72c4e623",
   "metadata": {},
   "outputs": [],
   "source": [
    "sc.set_figure_params(fontsize=12)\n",
    "\n",
    "p1_p7_mes_adata = norm_mes_adata[norm_mes_adata.obs['Timepoint'].isin(['P1','P7','P21']),:]\n",
    "ge_20_cells = p1_p7_mes_adata.obs['Cell Subtype'].value_counts() >= 20\n",
    "genes = ['Tagln',\n",
    "#          'Hif1a',\n",
    "         'Pdgfra']\n",
    "cts = sorted(ge_20_cells.loc[ge_20_cells == True].index)\n",
    "p1_p7_mes_adata = p1_p7_mes_adata[p1_p7_mes_adata.obs['Cell Subtype'].isin(cts),:]\n",
    "fig, ax = plt.subplots(1,1,figsize = (6,2))\n",
    "dp_object = sc.pl.MatrixPlot(p1_p7_mes_adata,\n",
    "                 genes,\n",
    "                 standard_scale='var',\n",
    "                 ax = ax,\n",
    "                 groupby = ['Cell Subtype']).swap_axes().legend(width = 1, title='Normalized Expression').style(cmap='viridis').get_axes()\n",
    "dp_object['mainplot_ax'].set_xticklabels(sorted(p1_p7_mes_adata.obs['Cell Subtype'].unique()), \n",
    "                                         rotation = 60)\n",
    "fig.savefig(os.path.join(output,f'matrixplot_fig2_pdgfra_angpt2_long.png'),bbox_inches='tight', dpi = 300)"
   ]
  },
  {
   "cell_type": "code",
   "execution_count": null,
   "id": "f7dc24bb",
   "metadata": {},
   "outputs": [],
   "source": [
    "sc.pl.MatrixPlot(p1_p7_mes_adata,\n",
    "                 ['Tagln', 'Pdgfra'],\n",
    "                 standard_scale='var',\n",
    "                 groupby = ['Cell Subtype']).swap_axes().legend(width = 2.1, title='Normalized Expression').style(cmap='viridis').savefig(os.path.join(output,f'matrixplot_fig2_pdgfra_angpt2.png'), dpi = 300)"
   ]
  },
  {
   "cell_type": "markdown",
   "id": "9a113375",
   "metadata": {},
   "source": [
    "## Figure 4\n",
    "### Angpt2 expression"
   ]
  },
  {
   "cell_type": "code",
   "execution_count": null,
   "id": "bdb002d7",
   "metadata": {},
   "outputs": [],
   "source": [
    "sc.pl.MatrixPlot(p1_p7_mes_adata,\n",
    "                 ['Tagln', 'Angpt2'],\n",
    "                 standard_scale='var',\n",
    "                 groupby = ['Cell Subtype']).swap_axes().legend(width = 2.1, title='Normalized Expression').style(cmap='viridis').savefig(os.path.join(output,f'matrixplot_fig4_tagln_angpt2.png'), dpi = 300)"
   ]
  },
  {
   "cell_type": "markdown",
   "id": "3f607d7f",
   "metadata": {},
   "source": [
    "## Figure 5 / Supplemental\n",
    "### Angpt signaling in mesenchyme and endothelium"
   ]
  },
  {
   "cell_type": "code",
   "execution_count": null,
   "id": "6b06edde",
   "metadata": {},
   "outputs": [],
   "source": [
    "\n",
    "\n",
    "norm_end_adata = end_adata[end_adata.obs['Treatment'] == 'normal', :]\n",
    "p1_p7_end_adata = norm_end_adata[norm_end_adata.obs['Timepoint'].isin(['P1','P7','P21']),:]\n",
    "ge_20_cells = p1_p7_end_adata.obs['Cell Subtype'].value_counts() >= 20\n",
    "cts = sorted(ge_20_cells.loc[ge_20_cells == True].index)\n",
    "p1_p7_end_adata = p1_p7_end_adata[p1_p7_end_adata.obs['Cell Subtype'].isin(cts),:]\n",
    "\n",
    "\n",
    "\n",
    "norm_adata = p1_p7_end_adata.concatenate(p1_p7_mes_adata)\n",
    "order = sorted(p1_p7_mes_adata.obs['Cell Subtype'].unique()) + sorted(p1_p7_end_adata.obs['Cell Subtype'].unique())\n",
    "sc.pl.DotPlot(norm_adata,\n",
    "              ['Tagln','Angpt1', 'Angpt2', 'Tie1', 'Tek'],\n",
    "              categories_order=order,\n",
    "              standard_scale='var',\n",
    "              groupby = 'Cell Subtype').swap_axes().legend(width = 2, size_title='% cells expressing',colorbar_title= 'Normalized Expression').style(cmap='viridis').savefig(os.path.join(output,f'dotplotplot_fig4_endo_angpt2_receptors.png'), dpi = 300)\n"
   ]
  }
 ],
 "metadata": {
  "kernelspec": {
   "display_name": "Python 3 (ipykernel)",
   "language": "python",
   "name": "python3"
  },
  "language_info": {
   "codemirror_mode": {
    "name": "ipython",
    "version": 3
   },
   "file_extension": ".py",
   "mimetype": "text/x-python",
   "name": "python",
   "nbconvert_exporter": "python",
   "pygments_lexer": "ipython3",
   "version": "3.7.11"
  }
 },
 "nbformat": 4,
 "nbformat_minor": 5
}
